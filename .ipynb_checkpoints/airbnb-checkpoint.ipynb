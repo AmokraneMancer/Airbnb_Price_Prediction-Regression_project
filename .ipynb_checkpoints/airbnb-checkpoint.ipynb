{
 "cells": [
  {
   "cell_type": "code",
   "execution_count": 1,
   "metadata": {
    "id": "m99YnVW8gFJd"
   },
   "outputs": [],
   "source": [
    "import pandas as pd\n",
    "import numpy as np\n",
    "\n",
    "import matplotlib.pyplot as plt\n",
    "import seaborn as sns\n",
    "import time\n",
    "\n",
    "from sklearn.pipeline import Pipeline, FeatureUnion, make_pipeline\n",
    "from sklearn.preprocessing import PolynomialFeatures,MaxAbsScaler, MinMaxScaler, FunctionTransformer, OneHotEncoder, KBinsDiscretizer\n",
    "from sklearn.decomposition import PCA, TruncatedSVD\n",
    "from sklearn.base import BaseEstimator,TransformerMixin\n",
    "from sklearn.feature_selection import VarianceThreshold\n",
    "from sklearn.impute import SimpleImputer\n",
    "from sklearn.preprocessing import OneHotEncoder\n",
    "from sklearn.feature_extraction.text import CountVectorizer \n",
    "\n",
    "from sklearn.model_selection import cross_val_score, train_test_split as split\n",
    "\n",
    "from sklearn.neighbors import KNeighborsRegressor as KNNR\n",
    "from sklearn.tree import DecisionTreeRegressor\n",
    "from sklearn.linear_model import LinearRegression\n",
    "from sklearn.ensemble import RandomForestRegressor, RandomTreesEmbedding\n",
    "\n",
    "from sklearn.metrics import roc_curve, mean_absolute_error, make_scorer\n",
    "\n",
    "import warnings\n",
    "warnings.filterwarnings('ignore')"
   ]
  },
  {
   "cell_type": "code",
   "execution_count": 2,
   "metadata": {
    "colab": {
     "base_uri": "https://localhost:8080/"
    },
    "id": "YJHRYQ16gPi7",
    "outputId": "28fc8ab8-e64f-48f5-a66b-34ab65870d2d"
   },
   "outputs": [
    {
     "name": "stdout",
     "output_type": "stream",
     "text": [
      "Mounted at /content/drive\n"
     ]
    }
   ],
   "source": [
    "from sklearn.model_selection import train_test_split\n",
    "from google.colab import drive\n",
    "drive.mount('/content/drive')"
   ]
  },
  {
   "cell_type": "code",
   "execution_count": 3,
   "metadata": {
    "id": "MwhEpb51gpBS"
   },
   "outputs": [],
   "source": [
    "import os\n",
    "os.chdir(\"/content/drive/My Drive/airbnb_project/\")"
   ]
  },
  {
   "cell_type": "code",
   "execution_count": 4,
   "metadata": {
    "id": "aMynkqFog0_s"
   },
   "outputs": [],
   "source": [
    "data = pd.read_csv('train.csv', sep=\",\")"
   ]
  },
  {
   "cell_type": "markdown",
   "metadata": {
    "id": "CqgrDLsXEKdz"
   },
   "source": [
    "# Data Analysis and Preprocessing"
   ]
  },
  {
   "cell_type": "code",
   "execution_count": 5,
   "metadata": {
    "colab": {
     "base_uri": "https://localhost:8080/",
     "height": 573
    },
    "id": "Nr2ZmsOFhPzE",
    "outputId": "0283c74e-2dac-4176-dea6-1c3ef6700348"
   },
   "outputs": [
    {
     "data": {
      "text/html": [
       "<div>\n",
       "<style scoped>\n",
       "    .dataframe tbody tr th:only-of-type {\n",
       "        vertical-align: middle;\n",
       "    }\n",
       "\n",
       "    .dataframe tbody tr th {\n",
       "        vertical-align: top;\n",
       "    }\n",
       "\n",
       "    .dataframe thead th {\n",
       "        text-align: right;\n",
       "    }\n",
       "</style>\n",
       "<table border=\"1\" class=\"dataframe\">\n",
       "  <thead>\n",
       "    <tr style=\"text-align: right;\">\n",
       "      <th></th>\n",
       "      <th>id</th>\n",
       "      <th>log_price</th>\n",
       "      <th>property_type</th>\n",
       "      <th>room_type</th>\n",
       "      <th>amenities</th>\n",
       "      <th>accommodates</th>\n",
       "      <th>bathrooms</th>\n",
       "      <th>bed_type</th>\n",
       "      <th>cancellation_policy</th>\n",
       "      <th>cleaning_fee</th>\n",
       "      <th>city</th>\n",
       "      <th>description</th>\n",
       "      <th>first_review</th>\n",
       "      <th>host_has_profile_pic</th>\n",
       "      <th>host_identity_verified</th>\n",
       "      <th>host_response_rate</th>\n",
       "      <th>host_since</th>\n",
       "      <th>instant_bookable</th>\n",
       "      <th>last_review</th>\n",
       "      <th>latitude</th>\n",
       "      <th>longitude</th>\n",
       "      <th>name</th>\n",
       "      <th>neighbourhood</th>\n",
       "      <th>number_of_reviews</th>\n",
       "      <th>review_scores_rating</th>\n",
       "      <th>thumbnail_url</th>\n",
       "      <th>zipcode</th>\n",
       "      <th>bedrooms</th>\n",
       "      <th>beds</th>\n",
       "    </tr>\n",
       "  </thead>\n",
       "  <tbody>\n",
       "    <tr>\n",
       "      <th>0</th>\n",
       "      <td>6901257</td>\n",
       "      <td>5.010635</td>\n",
       "      <td>Apartment</td>\n",
       "      <td>Entire home/apt</td>\n",
       "      <td>{\"Wireless Internet\",\"Air conditioning\",Kitche...</td>\n",
       "      <td>3</td>\n",
       "      <td>1.0</td>\n",
       "      <td>Real Bed</td>\n",
       "      <td>strict</td>\n",
       "      <td>True</td>\n",
       "      <td>NYC</td>\n",
       "      <td>Beautiful, sunlit brownstone 1-bedroom in the ...</td>\n",
       "      <td>2016-06-18</td>\n",
       "      <td>t</td>\n",
       "      <td>t</td>\n",
       "      <td>NaN</td>\n",
       "      <td>2012-03-26</td>\n",
       "      <td>f</td>\n",
       "      <td>2016-07-18</td>\n",
       "      <td>40.696524</td>\n",
       "      <td>-73.991617</td>\n",
       "      <td>Beautiful brownstone 1-bedroom</td>\n",
       "      <td>Brooklyn Heights</td>\n",
       "      <td>2</td>\n",
       "      <td>100.0</td>\n",
       "      <td>https://a0.muscache.com/im/pictures/6d7cbbf7-c...</td>\n",
       "      <td>11201</td>\n",
       "      <td>1.0</td>\n",
       "      <td>1.0</td>\n",
       "    </tr>\n",
       "    <tr>\n",
       "      <th>1</th>\n",
       "      <td>6304928</td>\n",
       "      <td>5.129899</td>\n",
       "      <td>Apartment</td>\n",
       "      <td>Entire home/apt</td>\n",
       "      <td>{\"Wireless Internet\",\"Air conditioning\",Kitche...</td>\n",
       "      <td>7</td>\n",
       "      <td>1.0</td>\n",
       "      <td>Real Bed</td>\n",
       "      <td>strict</td>\n",
       "      <td>True</td>\n",
       "      <td>NYC</td>\n",
       "      <td>Enjoy travelling during your stay in Manhattan...</td>\n",
       "      <td>2017-08-05</td>\n",
       "      <td>t</td>\n",
       "      <td>f</td>\n",
       "      <td>100%</td>\n",
       "      <td>2017-06-19</td>\n",
       "      <td>t</td>\n",
       "      <td>2017-09-23</td>\n",
       "      <td>40.766115</td>\n",
       "      <td>-73.989040</td>\n",
       "      <td>Superb 3BR Apt Located Near Times Square</td>\n",
       "      <td>Hell's Kitchen</td>\n",
       "      <td>6</td>\n",
       "      <td>93.0</td>\n",
       "      <td>https://a0.muscache.com/im/pictures/348a55fe-4...</td>\n",
       "      <td>10019</td>\n",
       "      <td>3.0</td>\n",
       "      <td>3.0</td>\n",
       "    </tr>\n",
       "    <tr>\n",
       "      <th>2</th>\n",
       "      <td>7919400</td>\n",
       "      <td>4.976734</td>\n",
       "      <td>Apartment</td>\n",
       "      <td>Entire home/apt</td>\n",
       "      <td>{TV,\"Cable TV\",\"Wireless Internet\",\"Air condit...</td>\n",
       "      <td>5</td>\n",
       "      <td>1.0</td>\n",
       "      <td>Real Bed</td>\n",
       "      <td>moderate</td>\n",
       "      <td>True</td>\n",
       "      <td>NYC</td>\n",
       "      <td>The Oasis comes complete with a full backyard ...</td>\n",
       "      <td>2017-04-30</td>\n",
       "      <td>t</td>\n",
       "      <td>t</td>\n",
       "      <td>100%</td>\n",
       "      <td>2016-10-25</td>\n",
       "      <td>t</td>\n",
       "      <td>2017-09-14</td>\n",
       "      <td>40.808110</td>\n",
       "      <td>-73.943756</td>\n",
       "      <td>The Garden Oasis</td>\n",
       "      <td>Harlem</td>\n",
       "      <td>10</td>\n",
       "      <td>92.0</td>\n",
       "      <td>https://a0.muscache.com/im/pictures/6fae5362-9...</td>\n",
       "      <td>10027</td>\n",
       "      <td>1.0</td>\n",
       "      <td>3.0</td>\n",
       "    </tr>\n",
       "    <tr>\n",
       "      <th>3</th>\n",
       "      <td>13418779</td>\n",
       "      <td>6.620073</td>\n",
       "      <td>House</td>\n",
       "      <td>Entire home/apt</td>\n",
       "      <td>{TV,\"Cable TV\",Internet,\"Wireless Internet\",Ki...</td>\n",
       "      <td>4</td>\n",
       "      <td>1.0</td>\n",
       "      <td>Real Bed</td>\n",
       "      <td>flexible</td>\n",
       "      <td>True</td>\n",
       "      <td>SF</td>\n",
       "      <td>This light-filled home-away-from-home is super...</td>\n",
       "      <td>NaN</td>\n",
       "      <td>t</td>\n",
       "      <td>t</td>\n",
       "      <td>NaN</td>\n",
       "      <td>2015-04-19</td>\n",
       "      <td>f</td>\n",
       "      <td>NaN</td>\n",
       "      <td>37.772004</td>\n",
       "      <td>-122.431619</td>\n",
       "      <td>Beautiful Flat in the Heart of SF!</td>\n",
       "      <td>Lower Haight</td>\n",
       "      <td>0</td>\n",
       "      <td>NaN</td>\n",
       "      <td>https://a0.muscache.com/im/pictures/72208dad-9...</td>\n",
       "      <td>94117.0</td>\n",
       "      <td>2.0</td>\n",
       "      <td>2.0</td>\n",
       "    </tr>\n",
       "    <tr>\n",
       "      <th>4</th>\n",
       "      <td>3808709</td>\n",
       "      <td>4.744932</td>\n",
       "      <td>Apartment</td>\n",
       "      <td>Entire home/apt</td>\n",
       "      <td>{TV,Internet,\"Wireless Internet\",\"Air conditio...</td>\n",
       "      <td>2</td>\n",
       "      <td>1.0</td>\n",
       "      <td>Real Bed</td>\n",
       "      <td>moderate</td>\n",
       "      <td>True</td>\n",
       "      <td>DC</td>\n",
       "      <td>Cool, cozy, and comfortable studio located in ...</td>\n",
       "      <td>2015-05-12</td>\n",
       "      <td>t</td>\n",
       "      <td>t</td>\n",
       "      <td>100%</td>\n",
       "      <td>2015-03-01</td>\n",
       "      <td>t</td>\n",
       "      <td>2017-01-22</td>\n",
       "      <td>38.925627</td>\n",
       "      <td>-77.034596</td>\n",
       "      <td>Great studio in midtown DC</td>\n",
       "      <td>Columbia Heights</td>\n",
       "      <td>4</td>\n",
       "      <td>40.0</td>\n",
       "      <td>NaN</td>\n",
       "      <td>20009</td>\n",
       "      <td>0.0</td>\n",
       "      <td>1.0</td>\n",
       "    </tr>\n",
       "  </tbody>\n",
       "</table>\n",
       "</div>"
      ],
      "text/plain": [
       "         id  log_price property_type  ...  zipcode bedrooms  beds\n",
       "0   6901257   5.010635     Apartment  ...    11201      1.0   1.0\n",
       "1   6304928   5.129899     Apartment  ...    10019      3.0   3.0\n",
       "2   7919400   4.976734     Apartment  ...    10027      1.0   3.0\n",
       "3  13418779   6.620073         House  ...  94117.0      2.0   2.0\n",
       "4   3808709   4.744932     Apartment  ...    20009      0.0   1.0\n",
       "\n",
       "[5 rows x 29 columns]"
      ]
     },
     "execution_count": 5,
     "metadata": {
      "tags": []
     },
     "output_type": "execute_result"
    }
   ],
   "source": [
    "data.head()"
   ]
  },
  {
   "cell_type": "code",
   "execution_count": 6,
   "metadata": {
    "colab": {
     "base_uri": "https://localhost:8080/"
    },
    "id": "lOaZUpTxF_fg",
    "outputId": "0e628139-9567-46d5-ed02-264b9c82febe"
   },
   "outputs": [
    {
     "name": "stdout",
     "output_type": "stream",
     "text": [
      "<class 'pandas.core.frame.DataFrame'>\n",
      "RangeIndex: 74111 entries, 0 to 74110\n",
      "Data columns (total 29 columns):\n",
      " #   Column                  Non-Null Count  Dtype  \n",
      "---  ------                  --------------  -----  \n",
      " 0   id                      74111 non-null  int64  \n",
      " 1   log_price               74111 non-null  float64\n",
      " 2   property_type           74111 non-null  object \n",
      " 3   room_type               74111 non-null  object \n",
      " 4   amenities               74111 non-null  object \n",
      " 5   accommodates            74111 non-null  int64  \n",
      " 6   bathrooms               73911 non-null  float64\n",
      " 7   bed_type                74111 non-null  object \n",
      " 8   cancellation_policy     74111 non-null  object \n",
      " 9   cleaning_fee            74111 non-null  bool   \n",
      " 10  city                    74111 non-null  object \n",
      " 11  description             74111 non-null  object \n",
      " 12  first_review            58247 non-null  object \n",
      " 13  host_has_profile_pic    73923 non-null  object \n",
      " 14  host_identity_verified  73923 non-null  object \n",
      " 15  host_response_rate      55812 non-null  object \n",
      " 16  host_since              73923 non-null  object \n",
      " 17  instant_bookable        74111 non-null  object \n",
      " 18  last_review             58284 non-null  object \n",
      " 19  latitude                74111 non-null  float64\n",
      " 20  longitude               74111 non-null  float64\n",
      " 21  name                    74111 non-null  object \n",
      " 22  neighbourhood           67239 non-null  object \n",
      " 23  number_of_reviews       74111 non-null  int64  \n",
      " 24  review_scores_rating    57389 non-null  float64\n",
      " 25  thumbnail_url           65895 non-null  object \n",
      " 26  zipcode                 73145 non-null  object \n",
      " 27  bedrooms                74020 non-null  float64\n",
      " 28  beds                    73980 non-null  float64\n",
      "dtypes: bool(1), float64(7), int64(3), object(18)\n",
      "memory usage: 15.9+ MB\n"
     ]
    }
   ],
   "source": [
    "data.info()"
   ]
  },
  {
   "cell_type": "markdown",
   "metadata": {
    "id": "KbyL3aF2DtSY"
   },
   "source": [
    "The data we have consists of floats, integers, booleans and strings (some of which should be boolean, some should be floats, some should be handled as single entities). Also, for some features we have NANs that will have to be filled using tranfromers."
   ]
  },
  {
   "cell_type": "code",
   "execution_count": 7,
   "metadata": {
    "colab": {
     "base_uri": "https://localhost:8080/",
     "height": 568
    },
    "id": "NdXX2ZtJhUe4",
    "outputId": "9c60e233-f38a-4823-d407-b678831c86b7"
   },
   "outputs": [
    {
     "data": {
      "text/html": [
       "<div>\n",
       "<style scoped>\n",
       "    .dataframe tbody tr th:only-of-type {\n",
       "        vertical-align: middle;\n",
       "    }\n",
       "\n",
       "    .dataframe tbody tr th {\n",
       "        vertical-align: top;\n",
       "    }\n",
       "\n",
       "    .dataframe thead th {\n",
       "        text-align: right;\n",
       "    }\n",
       "</style>\n",
       "<table border=\"1\" class=\"dataframe\">\n",
       "  <thead>\n",
       "    <tr style=\"text-align: right;\">\n",
       "      <th></th>\n",
       "      <th>unique</th>\n",
       "    </tr>\n",
       "  </thead>\n",
       "  <tbody>\n",
       "    <tr>\n",
       "      <th>property_type</th>\n",
       "      <td>[Apartment, House, Condominium, Loft, Townhouse, Hostel, Guest suite, Bed &amp; Breakfast, Bungalow, Guesthouse, Dorm, Other, Camper/RV, Villa, Boutique hotel, Timeshare, In-law, Boat, Serviced apartment, Castle, Cabin, Treehouse, Tipi, Vacation home, Tent, Hut, Casa particular, Chalet, Yurt, Earth House, Parking Space, Train, Cave, Lighthouse, Island]</td>\n",
       "    </tr>\n",
       "    <tr>\n",
       "      <th>room_type</th>\n",
       "      <td>[Entire home/apt, Private room, Shared room]</td>\n",
       "    </tr>\n",
       "    <tr>\n",
       "      <th>bed_type</th>\n",
       "      <td>[Real Bed, Futon, Pull-out Sofa, Couch, Airbed]</td>\n",
       "    </tr>\n",
       "    <tr>\n",
       "      <th>cancellation_policy</th>\n",
       "      <td>[strict, moderate, flexible, super_strict_30, super_strict_60]</td>\n",
       "    </tr>\n",
       "    <tr>\n",
       "      <th>cleaning_fee</th>\n",
       "      <td>[True, False]</td>\n",
       "    </tr>\n",
       "    <tr>\n",
       "      <th>city</th>\n",
       "      <td>[NYC, SF, DC, LA, Chicago, Boston]</td>\n",
       "    </tr>\n",
       "    <tr>\n",
       "      <th>host_has_profile_pic</th>\n",
       "      <td>[t, nan, f]</td>\n",
       "    </tr>\n",
       "    <tr>\n",
       "      <th>host_identity_verified</th>\n",
       "      <td>[t, f, nan]</td>\n",
       "    </tr>\n",
       "    <tr>\n",
       "      <th>host_response_rate</th>\n",
       "      <td>[nan, 100%, 71%, 68%, 67%, 83%, 50%, 90%, 86%, 92%, 82%, 80%, 89%, 93%, 99%, 0%, 88%, 96%, 70%, 94%, 91%, 25%, 95%, 98%, 62%, 29%, 33%, 81%, 63%, 38%, 60%, 79%, 78%, 75%, 65%, 97%, 87%, 40%, 54%, 53%, 58%, 76%, 30%, 64%, 17%, 20%, 77%, 73%, 41%, 59%, 57%, 85%, 56%, 42%, 44%, 35%, 14%, 74%, 27%, 10%, 84%, 6%, 72%, 36%, 55%, 43%, 13%, 39%, 46%, 26%, 61%, 52%, 23%, 22%, 69%, 66%, 15%, 11%, 31%, 21%, 47%]</td>\n",
       "    </tr>\n",
       "    <tr>\n",
       "      <th>instant_bookable</th>\n",
       "      <td>[f, t]</td>\n",
       "    </tr>\n",
       "    <tr>\n",
       "      <th>neighbourhood</th>\n",
       "      <td>[Brooklyn Heights, Hell's Kitchen, Harlem, Lower Haight, Columbia Heights, Noe Valley, nan, Downtown, Richmond District, Alphabet City, Hermosa Beach, Torrance, U Street Corridor, Humboldt Park, Wicker Park, South Boston, Lower East Side, Flatbush, Sherman Oaks, East Flatbush, Valley Glen, Dupont Circle, Jamaica, Forest Hills, Murray Hill, Lefferts Garden, Mid-Wilshire, Venice, West Hollywood, Brownsville, Williamsburg, East Village, South Loop/Printers Row, Westlake, Hollywood Hills, Upper East Side, Bushwick, Bedford-Stuyvesant, Pilsen, Chelsea, Sunnyside, Greenwich Village, Washington Heights, Pasadena, Potrero Hill, Brookland, Los Feliz, Hollywood, Midtown East, Glendale, Park Slope, Arcadia, West Village, Astoria, Portola, Burbank, East Harlem, Silver Lake, Hillbrook, Shaw, Hillcrest, Morningside Heights, Tribeca, Studio City, Western Addition/NOPA, Echo Park, Financial District, Lakeview, Gramercy Park, Mission District, Kingman Park, Sunset Park, Upper West Side, Greenpoint, Highland Park, Cleveland Park, Prospect Heights, Glover Park, Gravesend, Jamaica Plain, Beacon Hill, SoMa, Flushing, Van Nuys, Del Rey, Midtown, Soho, Mission Hill, Roosevelt Island, Marina Del Rey, West Roxbury, Streeterville, Bernal Heights, Soundview, North Beach, Belmont Cragin, Crown Heights, Gowanus, Boerum Hill, Greenwood Heights, ...]</td>\n",
       "    </tr>\n",
       "  </tbody>\n",
       "</table>\n",
       "</div>"
      ],
      "text/plain": [
       "                                                                                                                                                                                                                                                                                                                                                                                                                                                                                                                                                                                                                                                                                                                                                                                                                                                                                                                                                                                                                                                                                                                                                                                                                                                                                                                                                                                                               unique\n",
       "property_type           [Apartment, House, Condominium, Loft, Townhouse, Hostel, Guest suite, Bed & Breakfast, Bungalow, Guesthouse, Dorm, Other, Camper/RV, Villa, Boutique hotel, Timeshare, In-law, Boat, Serviced apartment, Castle, Cabin, Treehouse, Tipi, Vacation home, Tent, Hut, Casa particular, Chalet, Yurt, Earth House, Parking Space, Train, Cave, Lighthouse, Island]                                                                                                                                                                                                                                                                                                                                                                                                                                                                                                                                                                                                                                                                                                                                                                                                                                                                                                                                                                                                                               \n",
       "room_type               [Entire home/apt, Private room, Shared room]                                                                                                                                                                                                                                                                                                                                                                                                                                                                                                                                                                                                                                                                                                                                                                                                                                                                                                                                                                                                                                                                                                                                                                                                                                                                                                                                                 \n",
       "bed_type                [Real Bed, Futon, Pull-out Sofa, Couch, Airbed]                                                                                                                                                                                                                                                                                                                                                                                                                                                                                                                                                                                                                                                                                                                                                                                                                                                                                                                                                                                                                                                                                                                                                                                                                                                                                                                                              \n",
       "cancellation_policy     [strict, moderate, flexible, super_strict_30, super_strict_60]                                                                                                                                                                                                                                                                                                                                                                                                                                                                                                                                                                                                                                                                                                                                                                                                                                                                                                                                                                                                                                                                                                                                                                                                                                                                                                                               \n",
       "cleaning_fee            [True, False]                                                                                                                                                                                                                                                                                                                                                                                                                                                                                                                                                                                                                                                                                                                                                                                                                                                                                                                                                                                                                                                                                                                                                                                                                                                                                                                                                                                \n",
       "city                    [NYC, SF, DC, LA, Chicago, Boston]                                                                                                                                                                                                                                                                                                                                                                                                                                                                                                                                                                                                                                                                                                                                                                                                                                                                                                                                                                                                                                                                                                                                                                                                                                                                                                                                                           \n",
       "host_has_profile_pic    [t, nan, f]                                                                                                                                                                                                                                                                                                                                                                                                                                                                                                                                                                                                                                                                                                                                                                                                                                                                                                                                                                                                                                                                                                                                                                                                                                                                                                                                                                                  \n",
       "host_identity_verified  [t, f, nan]                                                                                                                                                                                                                                                                                                                                                                                                                                                                                                                                                                                                                                                                                                                                                                                                                                                                                                                                                                                                                                                                                                                                                                                                                                                                                                                                                                                  \n",
       "host_response_rate      [nan, 100%, 71%, 68%, 67%, 83%, 50%, 90%, 86%, 92%, 82%, 80%, 89%, 93%, 99%, 0%, 88%, 96%, 70%, 94%, 91%, 25%, 95%, 98%, 62%, 29%, 33%, 81%, 63%, 38%, 60%, 79%, 78%, 75%, 65%, 97%, 87%, 40%, 54%, 53%, 58%, 76%, 30%, 64%, 17%, 20%, 77%, 73%, 41%, 59%, 57%, 85%, 56%, 42%, 44%, 35%, 14%, 74%, 27%, 10%, 84%, 6%, 72%, 36%, 55%, 43%, 13%, 39%, 46%, 26%, 61%, 52%, 23%, 22%, 69%, 66%, 15%, 11%, 31%, 21%, 47%]                                                                                                                                                                                                                                                                                                                                                                                                                                                                                                                                                                                                                                                                                                                                                                                                                                                                                                                                                                         \n",
       "instant_bookable        [f, t]                                                                                                                                                                                                                                                                                                                                                                                                                                                                                                                                                                                                                                                                                                                                                                                                                                                                                                                                                                                                                                                                                                                                                                                                                                                                                                                                                                                       \n",
       "neighbourhood           [Brooklyn Heights, Hell's Kitchen, Harlem, Lower Haight, Columbia Heights, Noe Valley, nan, Downtown, Richmond District, Alphabet City, Hermosa Beach, Torrance, U Street Corridor, Humboldt Park, Wicker Park, South Boston, Lower East Side, Flatbush, Sherman Oaks, East Flatbush, Valley Glen, Dupont Circle, Jamaica, Forest Hills, Murray Hill, Lefferts Garden, Mid-Wilshire, Venice, West Hollywood, Brownsville, Williamsburg, East Village, South Loop/Printers Row, Westlake, Hollywood Hills, Upper East Side, Bushwick, Bedford-Stuyvesant, Pilsen, Chelsea, Sunnyside, Greenwich Village, Washington Heights, Pasadena, Potrero Hill, Brookland, Los Feliz, Hollywood, Midtown East, Glendale, Park Slope, Arcadia, West Village, Astoria, Portola, Burbank, East Harlem, Silver Lake, Hillbrook, Shaw, Hillcrest, Morningside Heights, Tribeca, Studio City, Western Addition/NOPA, Echo Park, Financial District, Lakeview, Gramercy Park, Mission District, Kingman Park, Sunset Park, Upper West Side, Greenpoint, Highland Park, Cleveland Park, Prospect Heights, Glover Park, Gravesend, Jamaica Plain, Beacon Hill, SoMa, Flushing, Van Nuys, Del Rey, Midtown, Soho, Mission Hill, Roosevelt Island, Marina Del Rey, West Roxbury, Streeterville, Bernal Heights, Soundview, North Beach, Belmont Cragin, Crown Heights, Gowanus, Boerum Hill, Greenwood Heights, ...]"
      ]
     },
     "execution_count": 7,
     "metadata": {
      "tags": []
     },
     "output_type": "execute_result"
    }
   ],
   "source": [
    "pd.set_option('display.max_colwidth', 0)\n",
    "data[['property_type','room_type','bed_type','cancellation_policy',\n",
    "      'cleaning_fee','city','host_has_profile_pic','host_identity_verified',\n",
    "     'host_response_rate','instant_bookable','neighbourhood']].agg(['unique']).transpose()"
   ]
  },
  {
   "cell_type": "code",
   "execution_count": 8,
   "metadata": {
    "colab": {
     "base_uri": "https://localhost:8080/"
    },
    "id": "Q1z2gLKqGRTb",
    "outputId": "425047da-f796-4690-ea90-563c6f1be05c"
   },
   "outputs": [
    {
     "data": {
      "text/plain": [
       "Apartment             49003\n",
       "House                 16511\n",
       "Condominium           2658 \n",
       "Townhouse             1692 \n",
       "Loft                  1244 \n",
       "Other                 607  \n",
       "Guesthouse            498  \n",
       "Bed & Breakfast       462  \n",
       "Bungalow              366  \n",
       "Villa                 179  \n",
       "Dorm                  142  \n",
       "Guest suite           123  \n",
       "Camper/RV             94   \n",
       "Timeshare             77   \n",
       "Cabin                 72   \n",
       "In-law                71   \n",
       "Hostel                70   \n",
       "Boutique hotel        69   \n",
       "Boat                  65   \n",
       "Serviced apartment    21   \n",
       "Tent                  18   \n",
       "Castle                13   \n",
       "Vacation home         11   \n",
       "Yurt                  9    \n",
       "Hut                   8    \n",
       "Treehouse             7    \n",
       "Chalet                6    \n",
       "Earth House           4    \n",
       "Tipi                  3    \n",
       "Train                 2    \n",
       "Cave                  2    \n",
       "Parking Space         1    \n",
       "Island                1    \n",
       "Lighthouse            1    \n",
       "Casa particular       1    \n",
       "Name: property_type, dtype: int64"
      ]
     },
     "execution_count": 8,
     "metadata": {
      "tags": []
     },
     "output_type": "execute_result"
    }
   ],
   "source": [
    "data['property_type'].value_counts()"
   ]
  },
  {
   "cell_type": "markdown",
   "metadata": {
    "id": "Le7gBz02rC1P"
   },
   "source": [
    "For property type we have 35 property types. To reduce number of features, property type is grouped in to 5 catagories: Apartment, House, Hotel1, Hotel2 and other, to use with OneHotEncoder"
   ]
  },
  {
   "cell_type": "code",
   "execution_count": 9,
   "metadata": {
    "id": "kNBgZGaNhjbl"
   },
   "outputs": [],
   "source": [
    "property_type_dict = {'Apartment':['Condominium','Timeshare','Loft','Serviced apartment','Guest suite'],\n",
    "         'House':['Vacation home','Villa','Townhouse','In-law','Casa particular'],\n",
    "         'Hotel1':['Dorm','Hostel','Guesthouse'],\n",
    "         'Hotel2':['Boutique hotel','Bed & Breakfast'],\n",
    "         'Other':['Island','Castle','Yurt','Hut','Chalet','Treehouse',\n",
    "                  'Earth House','Tipi','Cave','Train','Parking Space','Lighthouse',\n",
    "                 'Tent','Boat','Cabin','Camper/RV','Bungalow']\n",
    "        }\n",
    "property_type_mapping = {i : k for k, v in property_type_dict.items() for i in v}"
   ]
  },
  {
   "cell_type": "markdown",
   "metadata": {
    "id": "PZQJHXziEfNW"
   },
   "source": [
    "**Some Helpful Functions**"
   ]
  },
  {
   "cell_type": "code",
   "execution_count": 10,
   "metadata": {
    "id": "h-szGMCQe_e3"
   },
   "outputs": [],
   "source": [
    "#Data preprocessin functions:\n",
    "\n",
    "def str_to_bool(s):\n",
    "    if s=='t':\n",
    "        return True\n",
    "    else: \n",
    "        return False\n",
    "    \n",
    "def str_to_rate(s):\n",
    "    if pd.isnull(s)==False:\n",
    "        return float(s.replace('%',''))\n",
    "    else: \n",
    "        return s\n",
    "\n",
    "def extract_list_val(s):\n",
    "    for c in ['{','}','\"']:\n",
    "        s=s.replace(c,'')\n",
    "    for c in ['/',':',' ','-','.','&',')','(','\\'']:\n",
    "        s=s.replace(c,'_')\n",
    "    s=s.replace('matress','mattress')\n",
    "    return s.split(',')\n",
    "\n",
    "def preprocessing_w_lat_long(data):\n",
    "    data=data[data['log_price']!=0]\n",
    "    data.drop(columns=['id','last_review', 'name', 'neighbourhood','host_has_profile_pic',\n",
    "                             'host_since', 'description', 'first_review','thumbnail_url','zipcode'],inplace =True)\n",
    "    data['property_type']=data['property_type'].replace(property_type_mapping)\n",
    "    data['room_type']=data['room_type'].str.replace(' ','_')\n",
    "    data['bed_type']=data['bed_type'].str.replace(' ','_')\n",
    "    data['host_response_rate'] =data['host_response_rate'].apply(str_to_rate)\n",
    "    data['host_identity_verified']=data['host_identity_verified'].apply(str_to_bool)\n",
    "    data['instant_bookable']=data['instant_bookable'].apply(str_to_bool).astype(float)\n",
    "    data['cleaning_fee']=data['cleaning_fee'].apply(str_to_bool).astype(float)\n",
    "    data['amenities']=data['amenities'].apply(extract_list_val).str.join(' ')\n",
    "    return data\n",
    "\n",
    "def preprocessing_no_lat_long(data):\n",
    "    data=data[data['log_price']!=0]\n",
    "    data=data[data['neighbourhood'].isna()==False]\n",
    "    data.drop(columns=['id','last_review', 'name', 'city','host_has_profile_pic',\n",
    "                           'host_since', 'description', 'first_review','thumbnail_url',\n",
    "                           'zipcode','longitude','latitude'],inplace =True)\n",
    "    data['property_type']=data['property_type'].replace(property_type_mapping)\n",
    "    data['room_type']=data['room_type'].str.replace(' ','_')\n",
    "    data['bed_type']=data['bed_type'].str.replace(' ','_')\n",
    "    data['host_response_rate'] =data['host_response_rate'].apply(str_to_rate)\n",
    "    data['host_identity_verified']=data['host_identity_verified'].apply(str_to_bool)\n",
    "    data['instant_bookable']=data['instant_bookable'].apply(str_to_bool).astype(float)\n",
    "    data['cleaning_fee']=data['cleaning_fee'].apply(str_to_bool).astype(float)\n",
    "    data['amenities']=data['amenities'].apply(extract_list_val).str.join(' ')\n",
    "    data['neighbourhood']=data['neighbourhood'].str.lower().replace('castle hill ','castle hill')\n",
    "    return data"
   ]
  },
  {
   "cell_type": "code",
   "execution_count": 11,
   "metadata": {
    "colab": {
     "base_uri": "https://localhost:8080/"
    },
    "id": "KtG9HAemYrKW",
    "outputId": "78e32f63-3c5e-4222-fbdc-d92a01406ade"
   },
   "outputs": [
    {
     "data": {
      "text/plain": [
       "619"
      ]
     },
     "execution_count": 11,
     "metadata": {
      "tags": []
     },
     "output_type": "execute_result"
    }
   ],
   "source": [
    "data['neighbourhood'].nunique()"
   ]
  },
  {
   "cell_type": "markdown",
   "metadata": {
    "id": "NhtVzfXwY1Ow"
   },
   "source": [
    "Neighbourhood feature has 619 values and some grouping of it is needed, to not create too many features"
   ]
  },
  {
   "cell_type": "code",
   "execution_count": 12,
   "metadata": {
    "colab": {
     "base_uri": "https://localhost:8080/",
     "height": 269
    },
    "id": "ySC-kgjnY86w",
    "outputId": "6918f191-61d2-44f3-ee17-8a342816d14a"
   },
   "outputs": [
    {
     "data": {
      "text/html": [
       "<div>\n",
       "<style scoped>\n",
       "    .dataframe tbody tr th:only-of-type {\n",
       "        vertical-align: middle;\n",
       "    }\n",
       "\n",
       "    .dataframe tbody tr th {\n",
       "        vertical-align: top;\n",
       "    }\n",
       "\n",
       "    .dataframe thead th {\n",
       "        text-align: right;\n",
       "    }\n",
       "</style>\n",
       "<table border=\"1\" class=\"dataframe\">\n",
       "  <thead>\n",
       "    <tr style=\"text-align: right;\">\n",
       "      <th></th>\n",
       "      <th>neighbourhood</th>\n",
       "    </tr>\n",
       "    <tr>\n",
       "      <th>city</th>\n",
       "      <th></th>\n",
       "    </tr>\n",
       "  </thead>\n",
       "  <tbody>\n",
       "    <tr>\n",
       "      <th>Boston</th>\n",
       "      <td>34</td>\n",
       "    </tr>\n",
       "    <tr>\n",
       "      <th>Chicago</th>\n",
       "      <td>80</td>\n",
       "    </tr>\n",
       "    <tr>\n",
       "      <th>DC</th>\n",
       "      <td>116</td>\n",
       "    </tr>\n",
       "    <tr>\n",
       "      <th>LA</th>\n",
       "      <td>157</td>\n",
       "    </tr>\n",
       "    <tr>\n",
       "      <th>NYC</th>\n",
       "      <td>201</td>\n",
       "    </tr>\n",
       "    <tr>\n",
       "      <th>SF</th>\n",
       "      <td>55</td>\n",
       "    </tr>\n",
       "  </tbody>\n",
       "</table>\n",
       "</div>"
      ],
      "text/plain": [
       "         neighbourhood\n",
       "city                  \n",
       "Boston   34           \n",
       "Chicago  80           \n",
       "DC       116          \n",
       "LA       157          \n",
       "NYC      201          \n",
       "SF       55           "
      ]
     },
     "execution_count": 12,
     "metadata": {
      "tags": []
     },
     "output_type": "execute_result"
    }
   ],
   "source": [
    "pd.DataFrame(data.groupby(['city'])['neighbourhood'].nunique())"
   ]
  },
  {
   "cell_type": "markdown",
   "metadata": {
    "id": "4LxzjVSqZA4L"
   },
   "source": [
    "Since we have lat-long information of the properties, we decided to use KNN regressor (with price, not log price, as prediction). This will be one of the transformers. So for all the data, Neighborhood will be dropped.\n",
    "\n",
    "We also dropped other features that we decided not to use, since we believe they won't contribute to the model: id, last_review, name, host_has_profile_pic (99% of hosts had profile pics), host_since, description, first_review, thumbnail_url and zipcode"
   ]
  },
  {
   "cell_type": "code",
   "execution_count": 13,
   "metadata": {
    "id": "zCnPcVyAFY0e"
   },
   "outputs": [],
   "source": [
    "data_clean_all=preprocessing_w_lat_long(data)"
   ]
  },
  {
   "cell_type": "code",
   "execution_count": 14,
   "metadata": {
    "colab": {
     "base_uri": "https://localhost:8080/",
     "height": 643
    },
    "id": "MEbH4fSiW09F",
    "outputId": "c61cfdaf-f789-4bad-e47f-09429626c73f"
   },
   "outputs": [
    {
     "data": {
      "text/html": [
       "<div>\n",
       "<style scoped>\n",
       "    .dataframe tbody tr th:only-of-type {\n",
       "        vertical-align: middle;\n",
       "    }\n",
       "\n",
       "    .dataframe tbody tr th {\n",
       "        vertical-align: top;\n",
       "    }\n",
       "\n",
       "    .dataframe thead th {\n",
       "        text-align: right;\n",
       "    }\n",
       "</style>\n",
       "<table border=\"1\" class=\"dataframe\">\n",
       "  <thead>\n",
       "    <tr style=\"text-align: right;\">\n",
       "      <th></th>\n",
       "      <th>log_price</th>\n",
       "      <th>property_type</th>\n",
       "      <th>room_type</th>\n",
       "      <th>amenities</th>\n",
       "      <th>accommodates</th>\n",
       "      <th>bathrooms</th>\n",
       "      <th>bed_type</th>\n",
       "      <th>cancellation_policy</th>\n",
       "      <th>cleaning_fee</th>\n",
       "      <th>city</th>\n",
       "      <th>host_identity_verified</th>\n",
       "      <th>host_response_rate</th>\n",
       "      <th>instant_bookable</th>\n",
       "      <th>latitude</th>\n",
       "      <th>longitude</th>\n",
       "      <th>number_of_reviews</th>\n",
       "      <th>review_scores_rating</th>\n",
       "      <th>bedrooms</th>\n",
       "      <th>beds</th>\n",
       "    </tr>\n",
       "  </thead>\n",
       "  <tbody>\n",
       "    <tr>\n",
       "      <th>0</th>\n",
       "      <td>5.010635</td>\n",
       "      <td>Apartment</td>\n",
       "      <td>Entire_home/apt</td>\n",
       "      <td>Wireless_Internet Air_conditioning Kitchen Heating Family_kid_friendly Essentials Hair_dryer Iron translation_missing__en_hosting_amenity_50</td>\n",
       "      <td>3</td>\n",
       "      <td>1.0</td>\n",
       "      <td>Real_Bed</td>\n",
       "      <td>strict</td>\n",
       "      <td>0.0</td>\n",
       "      <td>NYC</td>\n",
       "      <td>True</td>\n",
       "      <td>NaN</td>\n",
       "      <td>0.0</td>\n",
       "      <td>40.696524</td>\n",
       "      <td>-73.991617</td>\n",
       "      <td>2</td>\n",
       "      <td>100.0</td>\n",
       "      <td>1.0</td>\n",
       "      <td>1.0</td>\n",
       "    </tr>\n",
       "    <tr>\n",
       "      <th>1</th>\n",
       "      <td>5.129899</td>\n",
       "      <td>Apartment</td>\n",
       "      <td>Entire_home/apt</td>\n",
       "      <td>Wireless_Internet Air_conditioning Kitchen Heating Family_kid_friendly Washer Dryer Smoke_detector Fire_extinguisher Essentials Shampoo Hangers Hair_dryer Iron translation_missing__en_hosting_amenity_50</td>\n",
       "      <td>7</td>\n",
       "      <td>1.0</td>\n",
       "      <td>Real_Bed</td>\n",
       "      <td>strict</td>\n",
       "      <td>0.0</td>\n",
       "      <td>NYC</td>\n",
       "      <td>False</td>\n",
       "      <td>100.0</td>\n",
       "      <td>1.0</td>\n",
       "      <td>40.766115</td>\n",
       "      <td>-73.989040</td>\n",
       "      <td>6</td>\n",
       "      <td>93.0</td>\n",
       "      <td>3.0</td>\n",
       "      <td>3.0</td>\n",
       "    </tr>\n",
       "    <tr>\n",
       "      <th>2</th>\n",
       "      <td>4.976734</td>\n",
       "      <td>Apartment</td>\n",
       "      <td>Entire_home/apt</td>\n",
       "      <td>TV Cable_TV Wireless_Internet Air_conditioning Kitchen Breakfast Buzzer_wireless_intercom Heating Family_kid_friendly Smoke_detector Carbon_monoxide_detector Fire_extinguisher Essentials Shampoo Hangers Hair_dryer Iron Laptop_friendly_workspace translation_missing__en_hosting_amenity_50</td>\n",
       "      <td>5</td>\n",
       "      <td>1.0</td>\n",
       "      <td>Real_Bed</td>\n",
       "      <td>moderate</td>\n",
       "      <td>0.0</td>\n",
       "      <td>NYC</td>\n",
       "      <td>True</td>\n",
       "      <td>100.0</td>\n",
       "      <td>1.0</td>\n",
       "      <td>40.808110</td>\n",
       "      <td>-73.943756</td>\n",
       "      <td>10</td>\n",
       "      <td>92.0</td>\n",
       "      <td>1.0</td>\n",
       "      <td>3.0</td>\n",
       "    </tr>\n",
       "    <tr>\n",
       "      <th>3</th>\n",
       "      <td>6.620073</td>\n",
       "      <td>House</td>\n",
       "      <td>Entire_home/apt</td>\n",
       "      <td>TV Cable_TV Internet Wireless_Internet Kitchen Indoor_fireplace Buzzer_wireless_intercom Heating Washer Dryer Smoke_detector Carbon_monoxide_detector First_aid_kit Fire_extinguisher Essentials</td>\n",
       "      <td>4</td>\n",
       "      <td>1.0</td>\n",
       "      <td>Real_Bed</td>\n",
       "      <td>flexible</td>\n",
       "      <td>0.0</td>\n",
       "      <td>SF</td>\n",
       "      <td>True</td>\n",
       "      <td>NaN</td>\n",
       "      <td>0.0</td>\n",
       "      <td>37.772004</td>\n",
       "      <td>-122.431619</td>\n",
       "      <td>0</td>\n",
       "      <td>NaN</td>\n",
       "      <td>2.0</td>\n",
       "      <td>2.0</td>\n",
       "    </tr>\n",
       "    <tr>\n",
       "      <th>4</th>\n",
       "      <td>4.744932</td>\n",
       "      <td>Apartment</td>\n",
       "      <td>Entire_home/apt</td>\n",
       "      <td>TV Internet Wireless_Internet Air_conditioning Kitchen Elevator_in_building Heating Smoke_detector Carbon_monoxide_detector Fire_extinguisher Essentials Shampoo</td>\n",
       "      <td>2</td>\n",
       "      <td>1.0</td>\n",
       "      <td>Real_Bed</td>\n",
       "      <td>moderate</td>\n",
       "      <td>0.0</td>\n",
       "      <td>DC</td>\n",
       "      <td>True</td>\n",
       "      <td>100.0</td>\n",
       "      <td>1.0</td>\n",
       "      <td>38.925627</td>\n",
       "      <td>-77.034596</td>\n",
       "      <td>4</td>\n",
       "      <td>40.0</td>\n",
       "      <td>0.0</td>\n",
       "      <td>1.0</td>\n",
       "    </tr>\n",
       "  </tbody>\n",
       "</table>\n",
       "</div>"
      ],
      "text/plain": [
       "   log_price property_type  ... bedrooms beds\n",
       "0  5.010635   Apartment     ...  1.0      1.0\n",
       "1  5.129899   Apartment     ...  3.0      3.0\n",
       "2  4.976734   Apartment     ...  1.0      3.0\n",
       "3  6.620073   House         ...  2.0      2.0\n",
       "4  4.744932   Apartment     ...  0.0      1.0\n",
       "\n",
       "[5 rows x 19 columns]"
      ]
     },
     "execution_count": 14,
     "metadata": {
      "tags": []
     },
     "output_type": "execute_result"
    }
   ],
   "source": [
    "data_clean_all.head()"
   ]
  },
  {
   "cell_type": "code",
   "execution_count": 15,
   "metadata": {
    "colab": {
     "base_uri": "https://localhost:8080/"
    },
    "id": "h8YLlmNxXSfI",
    "outputId": "7fe20af2-a354-4420-b5fa-057f3853ca64"
   },
   "outputs": [
    {
     "name": "stdout",
     "output_type": "stream",
     "text": [
      "<class 'pandas.core.frame.DataFrame'>\n",
      "Int64Index: 74110 entries, 0 to 74110\n",
      "Data columns (total 19 columns):\n",
      " #   Column                  Non-Null Count  Dtype  \n",
      "---  ------                  --------------  -----  \n",
      " 0   log_price               74110 non-null  float64\n",
      " 1   property_type           74110 non-null  object \n",
      " 2   room_type               74110 non-null  object \n",
      " 3   amenities               74110 non-null  object \n",
      " 4   accommodates            74110 non-null  int64  \n",
      " 5   bathrooms               73910 non-null  float64\n",
      " 6   bed_type                74110 non-null  object \n",
      " 7   cancellation_policy     74110 non-null  object \n",
      " 8   cleaning_fee            74110 non-null  float64\n",
      " 9   city                    74110 non-null  object \n",
      " 10  host_identity_verified  74110 non-null  bool   \n",
      " 11  host_response_rate      55811 non-null  float64\n",
      " 12  instant_bookable        74110 non-null  float64\n",
      " 13  latitude                74110 non-null  float64\n",
      " 14  longitude               74110 non-null  float64\n",
      " 15  number_of_reviews       74110 non-null  int64  \n",
      " 16  review_scores_rating    57388 non-null  float64\n",
      " 17  bedrooms                74019 non-null  float64\n",
      " 18  beds                    73979 non-null  float64\n",
      "dtypes: bool(1), float64(10), int64(2), object(6)\n",
      "memory usage: 10.8+ MB\n"
     ]
    }
   ],
   "source": [
    "data_clean_all.info()"
   ]
  },
  {
   "cell_type": "markdown",
   "metadata": {
    "id": "24drtB7sXp9X"
   },
   "source": [
    "**Generate new Values for Nan values**"
   ]
  },
  {
   "cell_type": "code",
   "execution_count": 16,
   "metadata": {
    "id": "UUNB_6e-XaCL"
   },
   "outputs": [],
   "source": [
    "#columns to fill Nan with most frequent\n",
    "col_to_fillna_most_frequent=['beds','bedrooms','bathrooms','host_identity_verified']\n",
    "\n",
    "#columns to fill Nan with mean\n",
    "col_to_fillna_mean=['host_response_rate','review_scores_rating']\n",
    "\n",
    "#columns for get_dummies (one hot encoding)\n",
    "col_to_getdummies=['property_type','room_type','bed_type','cancellation_policy','city']\n",
    "\n",
    "#columns that won't be changed\n",
    "col_no_change=['accommodates','number_of_reviews']"
   ]
  },
  {
   "cell_type": "markdown",
   "metadata": {
    "id": "UD2IQ-gYYN-d"
   },
   "source": [
    "For exploration purposes we look at the price be city box plots:"
   ]
  },
  {
   "cell_type": "code",
   "execution_count": 17,
   "metadata": {
    "colab": {
     "base_uri": "https://localhost:8080/",
     "height": 557
    },
    "id": "pJ7Ramd-Xw_z",
    "outputId": "d91121b6-8291-4584-fe25-144e4b474ea1"
   },
   "outputs": [
    {
     "data": {
      "text/plain": [
       "<matplotlib.axes._subplots.AxesSubplot at 0x7fcb1c5e5470>"
      ]
     },
     "execution_count": 17,
     "metadata": {
      "tags": []
     },
     "output_type": "execute_result"
    },
    {
     "data": {
      "image/png": "[encoded data removed]",
      "text/plain": [
       "<Figure size 720x576 with 1 Axes>"
      ]
     },
     "metadata": {
      "needs_background": "light",
      "tags": []
     },
     "output_type": "display_data"
    }
   ],
   "source": [
    "city_price_df = data_clean_all.copy()[['city','log_price']]\n",
    "city_price_df['Price'] = np.exp(city_price_df['log_price'])\n",
    "city_price_df[['city','Price']].boxplot(by = 'city', figsize=(10, 8), vert=False)"
   ]
  },
  {
   "cell_type": "markdown",
   "metadata": {
    "id": "a3g2LfdMZSK4"
   },
   "source": [
    "the boxblot shows that they are many out liers twords the higher prices in all the cities, so the prices are quite skewed. predicting log_price can help with this skewness."
   ]
  },
  {
   "cell_type": "markdown",
   "metadata": {
    "id": "KJlIy8jKZbYR"
   },
   "source": [
    "# Regression models"
   ]
  },
  {
   "cell_type": "markdown",
   "metadata": {
    "id": "14Sa33OjrvPY"
   },
   "source": [
    "We decided to use 2 regression models: Linear Regression (LR) and Random Forest regressor (RF), for predicting log_price.\n",
    "In addition, KNN regressor was used to create a price grouping feature based on lat-long info.\n",
    "\n",
    "LR and RF ran with 2 types of transformers, with and without polynomioal features"
   ]
  },
  {
   "cell_type": "markdown",
   "metadata": {
    "id": "XDN0QgX0r5AQ"
   },
   "source": [
    "Some helpful scoring functions"
   ]
  },
  {
   "cell_type": "code",
   "execution_count": 18,
   "metadata": {
    "id": "6LWkgX0Srr_3"
   },
   "outputs": [],
   "source": [
    "# scoring functions\n",
    "def MAE(y_true, y_pred):\n",
    "    return mean_absolute_error(y_true, y_pred)\n",
    "\n",
    "def MAPE(y_true, y_pred):\n",
    "    return np.mean(np.abs((y_true - y_pred) / y_true)) * 100\n"
   ]
  },
  {
   "cell_type": "code",
   "execution_count": 19,
   "metadata": {
    "id": "uAPr2lSCr3ox"
   },
   "outputs": [],
   "source": [
    "MAE_scorer = make_scorer(MAE, greater_is_better=False)\n",
    "MAPE_scorer = make_scorer(MAPE, greater_is_better=False)"
   ]
  },
  {
   "cell_type": "code",
   "execution_count": 20,
   "metadata": {
    "id": "SIYjbfofsLIk"
   },
   "outputs": [],
   "source": [
    "KNN_neighbors=200\n",
    "RF_n_estimators=50\n",
    "RF_min_samples_split=50\n",
    "TSVD_n_components=10\n",
    "num_cv=5\n",
    "n_verbose = 3\n",
    "scoring_param=MAE_scorer\n",
    "\n",
    "PCA_features=PCA()\n",
    "TruncatedSVD_features=TruncatedSVD(n_components=TSVD_n_components)\n",
    "lin_regressor= LinearRegression()\n",
    "RF_regressor = RandomForestRegressor(n_estimators=RF_n_estimators, min_samples_split=RF_min_samples_split)\n",
    "KNN_Reg = KNNR(n_neighbors=KNN_neighbors)"
   ]
  },
  {
   "cell_type": "markdown",
   "metadata": {
    "id": "hpKq6kTtssFE"
   },
   "source": [
    "A class created for the KNN regressor for lat-long-price:"
   ]
  },
  {
   "cell_type": "code",
   "execution_count": 21,
   "metadata": {
    "id": "XBwaSL1Nsn0F"
   },
   "outputs": [],
   "source": [
    "class CustomTransformer(TransformerMixin, BaseEstimator):\n",
    "    '''A template for a custom transformer.'''\n",
    "\n",
    "    def __init__(self, model):\n",
    "        self.model=model\n",
    "        pass\n",
    "\n",
    "    def fit(self, X, y=None):\n",
    "        self.model.fit(X, np.exp(y))\n",
    "        return self\n",
    "\n",
    "    def transform(self, X):\n",
    "        # transform X via code or additional methods\n",
    "        return pd.DataFrame(self.model.predict(X))\n"
   ]
  },
  {
   "cell_type": "markdown",
   "metadata": {
    "id": "uXQgTCXAtAlH"
   },
   "source": [
    "**Some functions for transformers**"
   ]
  },
  {
   "cell_type": "code",
   "execution_count": 22,
   "metadata": {
    "id": "OyI4oV_gtFOW"
   },
   "outputs": [],
   "source": [
    "#functions to get columns for featrue tranformers   \n",
    "def get_col_to_fillna_most_frequent(df):\n",
    "    return df[col_to_fillna_most_frequent]\n",
    "\n",
    "def get_col_to_fillna_mean(df):\n",
    "    return df[col_to_fillna_mean]\n",
    "\n",
    "def get_col_to_get_dummies(df):\n",
    "    return df[col_to_getdummies]\n",
    "\n",
    "\n",
    "def get_col_to_get_dummies_NYC(df):\n",
    "    return df[col_to_getdummies_NYC]\n",
    "\n",
    "def get_lat_long(df):\n",
    "    return df[['latitude','longitude']]\n",
    "\n",
    "def get_amenities(df):\n",
    "    return df['amenities']\n",
    "\n",
    "def get_amenities2(df):\n",
    "    return df[['amenities']]\n",
    "\n",
    "def get_col_no_change(df):\n",
    "    return df[col_no_change]\n",
    "\n",
    "def get_sum_amenities(s):\n",
    "    return pd.DataFrame(s.apply(lambda s: len(s.split(' '))))"
   ]
  },
  {
   "cell_type": "markdown",
   "metadata": {
    "id": "NWeBBpups29W"
   },
   "source": [
    "Transformers:"
   ]
  },
  {
   "cell_type": "code",
   "execution_count": 23,
   "metadata": {
    "id": "UfsSIYcJs05V"
   },
   "outputs": [],
   "source": [
    "Transformer_fillna_most_frequent = Pipeline([('Select_col_to_fillna_most_frequent', FunctionTransformer(func=get_col_to_fillna_most_frequent, validate=False)),\n",
    "                                            ('Fill_Null',                           SimpleImputer(missing_values=np.nan, strategy='most_frequent')),\n",
    "                                            ('To_float_transformer',                FunctionTransformer(func=lambda x: x.astype(float) ,validate=False))\n",
    "                                            ])"
   ]
  },
  {
   "cell_type": "code",
   "execution_count": 24,
   "metadata": {
    "id": "F-vYMWiis-t_"
   },
   "outputs": [],
   "source": [
    "Transformer_fillna_mean = Pipeline([('Select_col_to_fillna_mean',    FunctionTransformer(func=get_col_to_fillna_mean, validate=False)),\n",
    "                                    ('Fill_Null',                    SimpleImputer(missing_values=np.nan, strategy='mean'))\n",
    "                                  ])"
   ]
  },
  {
   "cell_type": "code",
   "execution_count": 25,
   "metadata": {
    "id": "Sk9tszfBtaAq"
   },
   "outputs": [],
   "source": [
    "Transformer_OneHotEncoder= Pipeline([('Select_col_to_get_dummies',      FunctionTransformer(func=get_col_to_get_dummies, validate=False)),\n",
    "                                     ('OneHotEncoder_transform',        OneHotEncoder(handle_unknown='ignore'))\n",
    "                                  ])"
   ]
  },
  {
   "cell_type": "code",
   "execution_count": 26,
   "metadata": {
    "id": "VzVln3eNtcDg"
   },
   "outputs": [],
   "source": [
    "Transformer_amenities = Pipeline([('Select_col_to_get_amenities',  FunctionTransformer(func=get_amenities, validate=False)),\n",
    "                                  ('CountVectorizer_transform',    CountVectorizer(min_df=0.02)),\n",
    "                                  ('Feature_extractor_TSVD',     TruncatedSVD_features)\n",
    "                                 ])"
   ]
  },
  {
   "cell_type": "code",
   "execution_count": 27,
   "metadata": {
    "id": "o-yt4QOmvY3H"
   },
   "outputs": [],
   "source": [
    "Transformer_sum_amenities=Pipeline([('Select_col_to_get_amenities',  FunctionTransformer(func=get_amenities, validate=False)),\n",
    "                                    ('Get_sum_amenities',            FunctionTransformer(func=get_sum_amenities, validate=False)),\n",
    "                                   ])"
   ]
  },
  {
   "cell_type": "code",
   "execution_count": 28,
   "metadata": {
    "id": "qM0SA6zgtl4Z"
   },
   "outputs": [],
   "source": [
    "Transformer_get_columns = Pipeline ([('Select_col_no_change', FunctionTransformer(func=get_col_no_change, validate=False))])"
   ]
  },
  {
   "cell_type": "code",
   "execution_count": 29,
   "metadata": {
    "id": "m4gvD8hJuezL"
   },
   "outputs": [],
   "source": [
    "Transformer_lat_long = Pipeline ([('Select_col_lat_long_price', FunctionTransformer(func=get_lat_long, validate=False)),                                \n",
    "                                  ('CustomTransformer', CustomTransformer(KNN_Reg))    \n",
    "                                ])"
   ]
  },
  {
   "cell_type": "code",
   "execution_count": 30,
   "metadata": {
    "id": "CFfPwKbwveCr"
   },
   "outputs": [],
   "source": [
    "FeatureUnionTransformer = FeatureUnion([('FTfillna_frequent',   Transformer_fillna_most_frequent),\n",
    "                                        ('FTfillna_mean',       Transformer_fillna_mean),\n",
    "                                        ('FTget_OneHotEncoder', Transformer_OneHotEncoder),                  \n",
    "                                        ('FTamenities',         Transformer_amenities),\n",
    "                                        ('FT_sum_amenities',    Transformer_sum_amenities),\n",
    "                                        ('FT_lat_long',         Transformer_lat_long),\n",
    "                                        ('FT_get_columns',      Transformer_get_columns)\n",
    "                                       ])"
   ]
  },
  {
   "cell_type": "code",
   "execution_count": 31,
   "metadata": {
    "id": "so9-NnD2ygo_"
   },
   "outputs": [],
   "source": [
    "#Transformer with polynomial features\n",
    "Full_Transformer_poly = Pipeline([('Feature_Engineering', FeatureUnionTransformer),\n",
    "                                  ('Polynomial_Transformer', PolynomialFeatures(degree=2, interaction_only=True)),\n",
    "                                  ('Min_Max_Transformer', MaxAbsScaler())\n",
    "                                 ])\n",
    "\n",
    "#Transformer without polynomial features\n",
    "Full_Transformer = Pipeline([('Feature_Engineering', FeatureUnionTransformer),\n",
    "                             ('Min_Max_Transformer', MaxAbsScaler())\n",
    "                            ])"
   ]
  },
  {
   "cell_type": "markdown",
   "metadata": {
    "id": "ZlUsfRBZy8sv"
   },
   "source": [
    "Regression models pipeline"
   ]
  },
  {
   "cell_type": "code",
   "execution_count": 32,
   "metadata": {
    "id": "_MTeVjB7y4yP"
   },
   "outputs": [],
   "source": [
    "lin_reg_pipe= Pipeline([('Feature_transformer', Full_Transformer),\n",
    "                        ('Linear_regressor', lin_regressor)\n",
    "                       ])\n",
    "\n",
    "lin_reg_poly_pipe= Pipeline([('Feature_transformer_poly', Full_Transformer_poly),\n",
    "                             ('Linear_regressor', lin_regressor)\n",
    "                            ])\n",
    "\n",
    "RF_pipe= Pipeline([('Feature_transformer', Full_Transformer),\n",
    "                    ('RFE_regressor', RF_regressor)\n",
    "                  ])\n",
    "\n",
    "RF_poly_pipe= Pipeline([('Feature_transformer_poly', Full_Transformer_poly),\n",
    "                        ('RFE_regressor', RF_regressor)\n",
    "                       ])"
   ]
  },
  {
   "cell_type": "markdown",
   "metadata": {
    "id": "HdPR8syvzDBF"
   },
   "source": [
    "Split the data to train and test:"
   ]
  },
  {
   "cell_type": "code",
   "execution_count": 33,
   "metadata": {
    "id": "8m7F67DkzA5K"
   },
   "outputs": [],
   "source": [
    "X_train_all, X_test_all, y_train_all, y_test_all = split(data_clean_all.drop(axis=1, columns=['log_price']), \n",
    "                                                         data_clean_all['log_price'], \n",
    "                                                         test_size =0.3, random_state=123)"
   ]
  },
  {
   "cell_type": "markdown",
   "metadata": {
    "id": "IH9LRjwMzdnU"
   },
   "source": [
    "**Some functions for fitting**"
   ]
  },
  {
   "cell_type": "code",
   "execution_count": 34,
   "metadata": {
    "id": "MIPs6T_hznOp"
   },
   "outputs": [],
   "source": [
    "#functions for model fit, predict and results\n",
    "def time_convert (t):\n",
    "    h,m1=divmod(t, 3600)\n",
    "    m,s=divmod(m1, 60) \n",
    "    return h, m ,s\n",
    "\n",
    "def get_mean_cv_score(name, model, X_train, y_train, num_cv, n_verbose,scoring_param):\n",
    "    print ('Model: '+name)\n",
    "    print ('Begin CV fit')\n",
    "    t0 = time.time()\n",
    "    c_val=cross_val_score(model, X_train, y_train, cv=num_cv, verbose=n_verbose, scoring=scoring_param)\n",
    "    t1 = time.time()\n",
    "    h, m ,s=time_convert(t1-t0)\n",
    "    print('CV ended. Elapsed time: {0:.0f} hours, {1:.0f} minutes and {2:.0f} seconds'.format(h,m,s))\n",
    "    return -(c_val.mean().round(4))\n",
    "\n",
    "\n",
    "def get_results (pipes_dict, X_train, y_train,  X_test, y_test, num_cv, \n",
    "                 n_verbose, scoring_param, df_data_and_results, df_all_results):\n",
    "    for name,model in pipes_dict.items():\n",
    "        mean_cv_score=get_mean_cv_score(name ,model, X_train, y_train, num_cv, n_verbose,scoring_param)\n",
    "        print ('Begin '+name+' model fit')\n",
    "        t1 = time.time()\n",
    "        model.fit(X_train,y_train)\n",
    "        t2 = time.time()\n",
    "        h, m ,s=time_convert(t2-t1)\n",
    "        print('Model fit ended. Elapsed time: {0:.0f} hours, {1:.0f} minutes and {2:.0f} seconds'.format(h,m,s))\n",
    "        y_pred=model.predict(X_test)\n",
    "        df_data_and_results[('Price_pred_'+name)]=np.exp(y_pred)\n",
    "        df_data_and_results[('Price_diff_'+name)]=np.exp(y_test)-np.exp(y_pred)\n",
    "        df_all_results=df_all_results.append ({ 'Model':name,\n",
    "                                                'CV_train_mean_MAE_score': mean_cv_score,\n",
    "                                                'Test_MAE_score':          round(MAE(y_test,y_pred), 4),\n",
    "                                                'Min_diff':                 df_data_and_results[('Price_diff_'+name)].min(),\n",
    "                                                'Max_diff':                 df_data_and_results[('Price_diff_'+name)].max(), \n",
    "                                                'Mean_diff':                df_data_and_results[('Price_diff_'+name)].mean(), \n",
    "                                                'Median_diff':              df_data_and_results[('Price_diff_'+name)].median(),\n",
    "                                                'STD_diff':                 df_data_and_results[('Price_diff_'+name)].std(),\n",
    "                                                '10th percentile':          df_data_and_results[('Price_diff_'+name)].quantile(q=[0.1,0.9], interpolation='linear')[0.1],\n",
    "                                                '90th percentile':          df_data_and_results[('Price_diff_'+name)].quantile(q=[0.1,0.9], interpolation='linear')[0.9]\n",
    "                                              },\n",
    "                                                ignore_index = True)\n",
    "        print('======================================================================================\\n')\n",
    "    return df_data_and_results, df_all_results\n",
    "\n",
    "#Graph generation functions:\n",
    "def get_diff_hist (pipes_dict,df_data_and_results, df_all_results):\n",
    "    for name,model in pipes_dict.items():\n",
    "        fig, ax = plt.subplots(figsize=(14,5))\n",
    "        sns.set_context(rc={\"lines.linewidth\": 3.5})#\n",
    "        sns.distplot(df_data_and_results[('Price_diff_'+name)],ax=ax,color='red')\n",
    "        plt.title(name+' Price_diff histogram')\n",
    "        ax.set_xlim(df_all_results['Min_diff'].min(),df_all_results['Max_diff'].max())\n",
    "\n",
    "def get_prediction_cluster_graph(pipes_dict, y_test, df_data_and_results):\n",
    "    for name,model in pipes_dict.items():\n",
    "        plt.figure()\n",
    "        plt.plot(y_test,np.log(df_data_and_results[('Price_pred_'+name)]),'.', label = 'Result Data')\n",
    "        plt.plot([2,9],[2,9], label = 'Ideal')\n",
    "        plt.axes().set_aspect('equal')\n",
    "        plt.legend()\n",
    "        plt.title(name+' (y_true,y_pred) vs. ideal')"
   ]
  },
  {
   "cell_type": "markdown",
   "metadata": {
    "id": "cqDbR057zOw_"
   },
   "source": [
    "Run all regression models:"
   ]
  },
  {
   "cell_type": "code",
   "execution_count": 35,
   "metadata": {
    "id": "Na1UC6IrzL91"
   },
   "outputs": [],
   "source": [
    "#all regressors\n",
    "pipes_dict_all = {'LG':lin_reg_pipe, 'LG_poly':lin_reg_poly_pipe,'RF':RF_pipe, 'RF_poly':RF_poly_pipe}\n",
    "\n",
    "#reset DF to collect results\n",
    "df_all_results_all=pd.DataFrame(columns=['Model','CV_train_mean_MAE_score','Test_MAE_score',\n",
    "                                          'Min_diff','Max_diff','Mean_diff','Median_diff',\n",
    "                                          'STD_diff','10th percentile','90th percentile'])\n",
    "\n",
    "df_data_and_results_all=X_test_all.copy()\n",
    "df_data_and_results_all['Price_true']=np.exp(y_test_all)"
   ]
  },
  {
   "cell_type": "code",
   "execution_count": 36,
   "metadata": {
    "colab": {
     "base_uri": "https://localhost:8080/"
    },
    "id": "JCjV7yRxzSTe",
    "outputId": "24d14487-f140-41a0-9a82-8f923ccec0e2"
   },
   "outputs": [
    {
     "name": "stdout",
     "output_type": "stream",
     "text": [
      "Model: LG\n",
      "Begin CV fit\n",
      "[CV]  ................................................................\n"
     ]
    },
    {
     "name": "stderr",
     "output_type": "stream",
     "text": [
      "[Parallel(n_jobs=1)]: Using backend SequentialBackend with 1 concurrent workers.\n"
     ]
    },
    {
     "name": "stdout",
     "output_type": "stream",
     "text": [
      "[CV] ................................... , score=-0.308, total=   3.9s\n",
      "[CV]  ................................................................\n"
     ]
    },
    {
     "name": "stderr",
     "output_type": "stream",
     "text": [
      "[Parallel(n_jobs=1)]: Done   1 out of   1 | elapsed:    4.0s remaining:    0.0s\n"
     ]
    },
    {
     "name": "stdout",
     "output_type": "stream",
     "text": [
      "[CV] ................................... , score=-0.304, total=   3.8s\n",
      "[CV]  ................................................................\n"
     ]
    },
    {
     "name": "stderr",
     "output_type": "stream",
     "text": [
      "[Parallel(n_jobs=1)]: Done   2 out of   2 | elapsed:    7.8s remaining:    0.0s\n"
     ]
    },
    {
     "name": "stdout",
     "output_type": "stream",
     "text": [
      "[CV] ................................... , score=-0.315, total=   3.8s\n",
      "[CV]  ................................................................\n",
      "[CV] ................................... , score=-0.306, total=   3.8s\n",
      "[CV]  ................................................................\n",
      "[CV] ................................... , score=-0.304, total=   3.8s\n",
      "CV ended. Elapsed time: 0 hours, 0 minutes and 19 seconds\n",
      "Begin LG model fit\n"
     ]
    },
    {
     "name": "stderr",
     "output_type": "stream",
     "text": [
      "[Parallel(n_jobs=1)]: Done   5 out of   5 | elapsed:   19.3s finished\n"
     ]
    },
    {
     "name": "stdout",
     "output_type": "stream",
     "text": [
      "Model fit ended. Elapsed time: 0 hours, 0 minutes and 4 seconds\n",
      "======================================================================================\n",
      "\n",
      "Model: LG_poly\n",
      "Begin CV fit\n",
      "[CV]  ................................................................\n"
     ]
    },
    {
     "name": "stderr",
     "output_type": "stream",
     "text": [
      "[Parallel(n_jobs=1)]: Using backend SequentialBackend with 1 concurrent workers.\n"
     ]
    },
    {
     "name": "stdout",
     "output_type": "stream",
     "text": [
      "[CV] ................................... , score=-0.293, total= 1.5min\n",
      "[CV]  ................................................................\n"
     ]
    },
    {
     "name": "stderr",
     "output_type": "stream",
     "text": [
      "[Parallel(n_jobs=1)]: Done   1 out of   1 | elapsed:  1.5min remaining:    0.0s\n"
     ]
    },
    {
     "name": "stdout",
     "output_type": "stream",
     "text": [
      "[CV] ................................... , score=-0.294, total= 1.5min\n",
      "[CV]  ................................................................\n"
     ]
    },
    {
     "name": "stderr",
     "output_type": "stream",
     "text": [
      "[Parallel(n_jobs=1)]: Done   2 out of   2 | elapsed:  3.0min remaining:    0.0s\n"
     ]
    },
    {
     "name": "stdout",
     "output_type": "stream",
     "text": [
      "[CV] ................................... , score=-0.301, total= 1.5min\n",
      "[CV]  ................................................................\n",
      "[CV] ................................... , score=-0.297, total= 1.5min\n",
      "[CV]  ................................................................\n",
      "[CV] ................................... , score=-0.294, total= 1.5min\n",
      "CV ended. Elapsed time: 0 hours, 7 minutes and 28 seconds\n",
      "Begin LG_poly model fit\n"
     ]
    },
    {
     "name": "stderr",
     "output_type": "stream",
     "text": [
      "[Parallel(n_jobs=1)]: Done   5 out of   5 | elapsed:  7.5min finished\n"
     ]
    },
    {
     "name": "stdout",
     "output_type": "stream",
     "text": [
      "Model fit ended. Elapsed time: 0 hours, 1 minutes and 49 seconds\n",
      "======================================================================================\n",
      "\n",
      "Model: RF\n",
      "Begin CV fit\n",
      "[CV]  ................................................................\n"
     ]
    },
    {
     "name": "stderr",
     "output_type": "stream",
     "text": [
      "[Parallel(n_jobs=1)]: Using backend SequentialBackend with 1 concurrent workers.\n"
     ]
    },
    {
     "name": "stdout",
     "output_type": "stream",
     "text": [
      "[CV] ................................... , score=-0.294, total= 2.0min\n",
      "[CV]  ................................................................\n"
     ]
    },
    {
     "name": "stderr",
     "output_type": "stream",
     "text": [
      "[Parallel(n_jobs=1)]: Done   1 out of   1 | elapsed:  2.0min remaining:    0.0s\n"
     ]
    },
    {
     "name": "stdout",
     "output_type": "stream",
     "text": [
      "[CV] ................................... , score=-0.292, total= 2.0min\n",
      "[CV]  ................................................................\n"
     ]
    },
    {
     "name": "stderr",
     "output_type": "stream",
     "text": [
      "[Parallel(n_jobs=1)]: Done   2 out of   2 | elapsed:  4.1min remaining:    0.0s\n"
     ]
    },
    {
     "name": "stdout",
     "output_type": "stream",
     "text": [
      "[CV] ................................... , score=-0.298, total= 2.1min\n",
      "[CV]  ................................................................\n",
      "[CV] ................................... , score=-0.292, total= 2.1min\n",
      "[CV]  ................................................................\n",
      "[CV] ................................... , score=-0.288, total= 2.0min\n",
      "CV ended. Elapsed time: 0 hours, 10 minutes and 14 seconds\n",
      "Begin RF model fit\n"
     ]
    },
    {
     "name": "stderr",
     "output_type": "stream",
     "text": [
      "[Parallel(n_jobs=1)]: Done   5 out of   5 | elapsed: 10.2min finished\n"
     ]
    },
    {
     "name": "stdout",
     "output_type": "stream",
     "text": [
      "Model fit ended. Elapsed time: 0 hours, 2 minutes and 42 seconds\n",
      "======================================================================================\n",
      "\n",
      "Model: RF_poly\n",
      "Begin CV fit\n",
      "[CV]  ................................................................\n"
     ]
    },
    {
     "name": "stderr",
     "output_type": "stream",
     "text": [
      "[Parallel(n_jobs=1)]: Using backend SequentialBackend with 1 concurrent workers.\n"
     ]
    },
    {
     "name": "stdout",
     "output_type": "stream",
     "text": [
      "[CV] ................................... , score=-0.290, total=38.0min\n",
      "[CV]  ................................................................\n"
     ]
    },
    {
     "name": "stderr",
     "output_type": "stream",
     "text": [
      "[Parallel(n_jobs=1)]: Done   1 out of   1 | elapsed: 38.0min remaining:    0.0s\n"
     ]
    },
    {
     "name": "stdout",
     "output_type": "stream",
     "text": [
      "[CV] ................................... , score=-0.289, total=37.1min\n",
      "[CV]  ................................................................\n"
     ]
    },
    {
     "name": "stderr",
     "output_type": "stream",
     "text": [
      "[Parallel(n_jobs=1)]: Done   2 out of   2 | elapsed: 75.2min remaining:    0.0s\n"
     ]
    },
    {
     "name": "stdout",
     "output_type": "stream",
     "text": [
      "[CV] ................................... , score=-0.295, total=40.6min\n",
      "[CV]  ................................................................\n",
      "[CV] ................................... , score=-0.287, total=39.5min\n",
      "[CV]  ................................................................\n",
      "[CV] ................................... , score=-0.285, total=37.3min\n",
      "CV ended. Elapsed time: 3 hours, 12 minutes and 34 seconds\n",
      "Begin RF_poly model fit\n"
     ]
    },
    {
     "name": "stderr",
     "output_type": "stream",
     "text": [
      "[Parallel(n_jobs=1)]: Done   5 out of   5 | elapsed: 192.6min finished\n"
     ]
    },
    {
     "name": "stdout",
     "output_type": "stream",
     "text": [
      "Model fit ended. Elapsed time: 0 hours, 50 minutes and 46 seconds\n",
      "======================================================================================\n",
      "\n"
     ]
    }
   ],
   "source": [
    "#Run models\n",
    "df_data_and_results_all, df_all_results_all =get_results(pipes_dict_all, X_train_all, y_train_all, X_test_all, y_test_all, \n",
    "                                                         num_cv, n_verbose, scoring_param, \n",
    "                                                         df_data_and_results_all, df_all_results_all)"
   ]
  },
  {
   "cell_type": "code",
   "execution_count": 37,
   "metadata": {
    "colab": {
     "base_uri": "https://localhost:8080/",
     "height": 175
    },
    "id": "rv76q_dvzVpI",
    "outputId": "dda31268-5119-4a25-ce6c-011d0b83c714"
   },
   "outputs": [
    {
     "data": {
      "text/html": [
       "<div>\n",
       "<style scoped>\n",
       "    .dataframe tbody tr th:only-of-type {\n",
       "        vertical-align: middle;\n",
       "    }\n",
       "\n",
       "    .dataframe tbody tr th {\n",
       "        vertical-align: top;\n",
       "    }\n",
       "\n",
       "    .dataframe thead th {\n",
       "        text-align: right;\n",
       "    }\n",
       "</style>\n",
       "<table border=\"1\" class=\"dataframe\">\n",
       "  <thead>\n",
       "    <tr style=\"text-align: right;\">\n",
       "      <th></th>\n",
       "      <th>Model</th>\n",
       "      <th>CV_train_mean_MAE_score</th>\n",
       "      <th>Test_MAE_score</th>\n",
       "      <th>Min_diff</th>\n",
       "      <th>Max_diff</th>\n",
       "      <th>Mean_diff</th>\n",
       "      <th>Median_diff</th>\n",
       "      <th>STD_diff</th>\n",
       "      <th>10th percentile</th>\n",
       "      <th>90th percentile</th>\n",
       "    </tr>\n",
       "  </thead>\n",
       "  <tbody>\n",
       "    <tr>\n",
       "      <th>0</th>\n",
       "      <td>LG</td>\n",
       "      <td>0.3075</td>\n",
       "      <td>0.3100</td>\n",
       "      <td>-2173.852031</td>\n",
       "      <td>1703.116448</td>\n",
       "      <td>17.286434</td>\n",
       "      <td>-2.028044</td>\n",
       "      <td>124.378557</td>\n",
       "      <td>-51.381202</td>\n",
       "      <td>83.133628</td>\n",
       "    </tr>\n",
       "    <tr>\n",
       "      <th>1</th>\n",
       "      <td>LG_poly</td>\n",
       "      <td>0.2955</td>\n",
       "      <td>0.2957</td>\n",
       "      <td>-4618.043116</td>\n",
       "      <td>1707.146432</td>\n",
       "      <td>15.705240</td>\n",
       "      <td>-1.696606</td>\n",
       "      <td>120.707368</td>\n",
       "      <td>-49.943986</td>\n",
       "      <td>79.802128</td>\n",
       "    </tr>\n",
       "    <tr>\n",
       "      <th>2</th>\n",
       "      <td>RF</td>\n",
       "      <td>0.2929</td>\n",
       "      <td>0.2907</td>\n",
       "      <td>-582.901593</td>\n",
       "      <td>1700.383113</td>\n",
       "      <td>16.268946</td>\n",
       "      <td>-1.641737</td>\n",
       "      <td>114.615719</td>\n",
       "      <td>-48.611367</td>\n",
       "      <td>80.991218</td>\n",
       "    </tr>\n",
       "    <tr>\n",
       "      <th>3</th>\n",
       "      <td>RF_poly</td>\n",
       "      <td>0.2892</td>\n",
       "      <td>0.2891</td>\n",
       "      <td>-705.008146</td>\n",
       "      <td>1665.708657</td>\n",
       "      <td>15.393644</td>\n",
       "      <td>-1.745153</td>\n",
       "      <td>113.615596</td>\n",
       "      <td>-49.083959</td>\n",
       "      <td>78.853494</td>\n",
       "    </tr>\n",
       "  </tbody>\n",
       "</table>\n",
       "</div>"
      ],
      "text/plain": [
       "     Model  CV_train_mean_MAE_score  ...  10th percentile  90th percentile\n",
       "0  LG       0.3075                   ... -51.381202        83.133628      \n",
       "1  LG_poly  0.2955                   ... -49.943986        79.802128      \n",
       "2  RF       0.2929                   ... -48.611367        80.991218      \n",
       "3  RF_poly  0.2892                   ... -49.083959        78.853494      \n",
       "\n",
       "[4 rows x 10 columns]"
      ]
     },
     "execution_count": 37,
     "metadata": {
      "tags": []
     },
     "output_type": "execute_result"
    }
   ],
   "source": [
    "df_all_results_all"
   ]
  },
  {
   "cell_type": "code",
   "execution_count": 38,
   "metadata": {
    "colab": {
     "base_uri": "https://localhost:8080/",
     "height": 1000
    },
    "id": "jNXBq8Dr4gbW",
    "outputId": "6ffae17f-13d5-48ff-8ccb-1bccf4b40356"
   },
   "outputs": [
    {
     "data": {
      "image/png": "[encoded data removed]",
      "text/plain": [
       "<Figure size 432x288 with 1 Axes>"
      ]
     },
     "metadata": {
      "needs_background": "light",
      "tags": []
     },
     "output_type": "display_data"
    },
    {
     "data": {
      "image/png": "[encoded data removed]",
      "text/plain": [
       "<Figure size 432x288 with 1 Axes>"
      ]
     },
     "metadata": {
      "needs_background": "light",
      "tags": []
     },
     "output_type": "display_data"
    },
    {
     "data": {
      "image/png": "[encoded data removed]",
      "text/plain": [
       "<Figure size 432x288 with 1 Axes>"
      ]
     },
     "metadata": {
      "needs_background": "light",
      "tags": []
     },
     "output_type": "display_data"
    },
    {
     "data": {
      "image/png": "[encoded data removed]",
      "text/plain": [
       "<Figure size 432x288 with 1 Axes>"
      ]
     },
     "metadata": {
      "needs_background": "light",
      "tags": []
     },
     "output_type": "display_data"
    }
   ],
   "source": [
    "get_prediction_cluster_graph(pipes_dict_all, y_test_all, df_data_and_results_all)"
   ]
  },
  {
   "cell_type": "code",
   "execution_count": 39,
   "metadata": {
    "colab": {
     "base_uri": "https://localhost:8080/",
     "height": 1000
    },
    "id": "5vsGAnExA_dB",
    "outputId": "f5507ef3-45f3-4dea-d9df-18988c8b2c8e"
   },
   "outputs": [
    {
     "data": {
      "image/png": "[encoded data removed]",
      "text/plain": [
       "<Figure size 1008x360 with 1 Axes>"
      ]
     },
     "metadata": {
      "needs_background": "light",
      "tags": []
     },
     "output_type": "display_data"
    },
    {
     "data": {
      "image/png": "[encoded data removed]",
      "text/plain": [
       "<Figure size 1008x360 with 1 Axes>"
      ]
     },
     "metadata": {
      "needs_background": "light",
      "tags": []
     },
     "output_type": "display_data"
    },
    {
     "data": {
      "image/png": "[encoded data removed]",
      "text/plain": [
       "<Figure size 1008x360 with 1 Axes>"
      ]
     },
     "metadata": {
      "needs_background": "light",
      "tags": []
     },
     "output_type": "display_data"
    },
    {
     "data": {
      "image/png": "[encoded data removed]",
      "text/plain": [
       "<Figure size 1008x360 with 1 Axes>"
      ]
     },
     "metadata": {
      "needs_background": "light",
      "tags": []
     },
     "output_type": "display_data"
    }
   ],
   "source": [
    "get_diff_hist(pipes_dict_all, df_data_and_results_all, df_all_results_all)"
   ]
  },
  {
   "cell_type": "markdown",
   "metadata": {
    "id": "RiStiyktBWix"
   },
   "source": [
    "Using Polynomial features improves the MAE score for both LG and RF models.\n",
    "RF performed better than LG, and it looks like RF with polynomial features is the model we would perfer for it's MAE score on test and other measurments. However, it's looks only slightly better than RF without polynomial features and takes substantially longer to run. So, if we prefer something quick for the loss of some percision, RF without polynomial features is the choice model."
   ]
  },
  {
   "cell_type": "code",
   "execution_count": null,
   "metadata": {
    "id": "DoctX1FNBKob"
   },
   "outputs": [],
   "source": []
  }
 ],
 "metadata": {
  "accelerator": "GPU",
  "colab": {
   "collapsed_sections": [],
   "name": "airbnb.ipynb",
   "provenance": []
  },
  "kernelspec": {
   "display_name": "Python 3",
   "language": "python",
   "name": "python3"
  },
  "language_info": {
   "codemirror_mode": {
    "name": "ipython",
    "version": 3
   },
   "file_extension": ".py",
   "mimetype": "text/x-python",
   "name": "python",
   "nbconvert_exporter": "python",
   "pygments_lexer": "ipython3",
   "version": "3.7.6"
  }
 },
 "nbformat": 4,
 "nbformat_minor": 1
}
